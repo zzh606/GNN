{
 "cells": [
  {
   "cell_type": "code",
   "execution_count": 2,
   "metadata": {},
   "outputs": [],
   "source": [
    "# 学习网页：\n",
    "# https://www.yanxishe.com/columnDetail/18432\n",
    "# https://zhuanlan.zhihu.com/p/94491664"
   ]
  },
  {
   "cell_type": "code",
   "execution_count": 4,
   "metadata": {},
   "outputs": [
    {
     "data": {
      "text/plain": [
       "Data(edge_index=[2, 5], x=[4, 2], y=[4])"
      ]
     },
     "execution_count": 4,
     "metadata": {},
     "output_type": "execute_result"
    }
   ],
   "source": [
    "import torch\n",
    "from torch_geometric.data import Data\n",
    "\n",
    "x = torch.tensor([[2,1],[5,6],[3,7],[12,0]],dtype=torch.float)\n",
    "y = torch.tensor([0,1,0,1], dtype=torch.float)\n",
    "edge_index = torch.tensor([[0,1,2,0,3],\n",
    "                           [1,0,1,3,2]],dtype=torch.long)\n",
    "mydata = Data(x=x,y=y,edge_index=edge_index)\n",
    "mydata\n",
    "# 输出: Data(edge_index=[2, 5], x=[4, 2], y=[4])"
   ]
  },
  {
   "cell_type": "code",
   "execution_count": null,
   "metadata": {},
   "outputs": [],
   "source": []
  }
 ],
 "metadata": {
  "kernelspec": {
   "display_name": "Python 3",
   "language": "python",
   "name": "python3"
  },
  "language_info": {
   "codemirror_mode": {
    "name": "ipython",
    "version": 3
   },
   "file_extension": ".py",
   "mimetype": "text/x-python",
   "name": "python",
   "nbconvert_exporter": "python",
   "pygments_lexer": "ipython3",
   "version": "3.8.5"
  }
 },
 "nbformat": 4,
 "nbformat_minor": 4
}
